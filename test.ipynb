{
 "cells": [
  {
   "cell_type": "code",
   "execution_count": 1,
   "metadata": {},
   "outputs": [
    {
     "ename": "EOFError",
     "evalue": "Expansion DEM not sufficient!20002000",
     "output_type": "error",
     "traceback": [
      "\u001b[1;31m---------------------------------------------------------------------------\u001b[0m",
      "\u001b[1;31mEOFError\u001b[0m                                  Traceback (most recent call last)",
      "Cell \u001b[1;32mIn[1], line 21\u001b[0m\n\u001b[0;32m     19\u001b[0m \u001b[38;5;28;01mfor\u001b[39;00m line \u001b[38;5;129;01min\u001b[39;00m lines: \u001b[38;5;66;03m# may  later be seperated on many cores\u001b[39;00m\n\u001b[0;32m     20\u001b[0m     segments \u001b[38;5;241m=\u001b[39m rough1\u001b[38;5;241m.\u001b[39msegment_line(number_of_segments\u001b[38;5;241m=\u001b[39mnumber_of_segments, line\u001b[38;5;241m=\u001b[39mline) \u001b[38;5;66;03m# segment per line\u001b[39;00m\n\u001b[1;32m---> 21\u001b[0m     \u001b[43mrough1\u001b[49m\u001b[38;5;241;43m.\u001b[39;49m\u001b[43mtransform_linesegments\u001b[49m\u001b[43m(\u001b[49m\u001b[43mline_points\u001b[49m\u001b[38;5;241;43m=\u001b[39;49m\u001b[43msegments\u001b[49m\u001b[43m)\u001b[49m \u001b[38;5;66;03m# transformed segment per line\u001b[39;00m\n\u001b[0;32m     22\u001b[0m     profile \u001b[38;5;241m=\u001b[39m rough1\u001b[38;5;241m.\u001b[39mcreate_profile(line_points\u001b[38;5;241m=\u001b[39msegments) \u001b[38;5;66;03m# create profile-Object\u001b[39;00m\n\u001b[0;32m     23\u001b[0m     max_alpha \u001b[38;5;241m=\u001b[39m rough1\u001b[38;5;241m.\u001b[39mget_max_angle(profile\u001b[38;5;241m=\u001b[39mprofile)\n",
      "File \u001b[1;32mc:\\Users\\fruef\\Documents\\_coding\\python\\GNSS_Planner\\backend\\roughplanning\\RoughPlanning.py:220\u001b[0m, in \u001b[0;36mRoughPlanning.transform_linesegments\u001b[1;34m(self, line_points)\u001b[0m\n\u001b[0;32m    216\u001b[0m     index \u001b[38;5;241m=\u001b[39m transformer\u001b[38;5;241m.\u001b[39mrowcol(xs\u001b[38;5;241m=\u001b[39mline_points[idx]\u001b[38;5;241m.\u001b[39measting, ys\u001b[38;5;241m=\u001b[39mline_points[idx]\u001b[38;5;241m.\u001b[39mnorthing)\n\u001b[0;32m    217\u001b[0m     \u001b[38;5;66;03m# works  so far\u001b[39;00m\n\u001b[0;32m    218\u001b[0m \n\u001b[0;32m    219\u001b[0m     \u001b[38;5;66;03m# make calcs -> update height and elevation-angle information in PointLineSegment-Object\u001b[39;00m\n\u001b[1;32m--> 220\u001b[0m     \u001b[38;5;28;43mself\u001b[39;49m\u001b[38;5;241;43m.\u001b[39;49m\u001b[43mget_raster_height\u001b[49m\u001b[43m(\u001b[49m\u001b[43mindex\u001b[49m\u001b[38;5;241;43m=\u001b[39;49m\u001b[43mindex\u001b[49m\u001b[43m,\u001b[49m\u001b[43m \u001b[49m\u001b[43mline_point\u001b[49m\u001b[38;5;241;43m=\u001b[39;49m\u001b[43mline_point\u001b[49m\u001b[43m)\u001b[49m\n\u001b[0;32m    222\u001b[0m \u001b[38;5;28;01mreturn\u001b[39;00m\n",
      "File \u001b[1;32mc:\\Users\\fruef\\Documents\\_coding\\python\\GNSS_Planner\\backend\\roughplanning\\RoughPlanning.py:255\u001b[0m, in \u001b[0;36mRoughPlanning.get_raster_height\u001b[1;34m(self, index, line_point)\u001b[0m\n\u001b[0;32m    251\u001b[0m height \u001b[38;5;241m=\u001b[39m src\u001b[38;5;241m.\u001b[39mheight\n\u001b[0;32m    254\u001b[0m \u001b[38;5;28;01mif\u001b[39;00m index[\u001b[38;5;241m0\u001b[39m] \u001b[38;5;241m<\u001b[39m \u001b[38;5;241m0\u001b[39m \u001b[38;5;129;01mor\u001b[39;00m index[\u001b[38;5;241m1\u001b[39m] \u001b[38;5;241m<\u001b[39m \u001b[38;5;241m0\u001b[39m:\n\u001b[1;32m--> 255\u001b[0m     \u001b[38;5;28;01mraise\u001b[39;00m \u001b[38;5;167;01mEOFError\u001b[39;00m(\u001b[38;5;124mf\u001b[39m\u001b[38;5;124m\"\u001b[39m\u001b[38;5;124mExpansion DEM not sufficient!\u001b[39m\u001b[38;5;132;01m{\u001b[39;00mwidth\u001b[38;5;132;01m}\u001b[39;00m\u001b[38;5;132;01m{\u001b[39;00mheight\u001b[38;5;132;01m}\u001b[39;00m\u001b[38;5;124m\"\u001b[39m)\n\u001b[0;32m    256\u001b[0m \u001b[38;5;28;01mif\u001b[39;00m index[\u001b[38;5;241m0\u001b[39m] \u001b[38;5;241m>\u001b[39m width \u001b[38;5;129;01mor\u001b[39;00m index[\u001b[38;5;241m1\u001b[39m] \u001b[38;5;241m>\u001b[39m height:\n\u001b[0;32m    257\u001b[0m     \u001b[38;5;28;01mraise\u001b[39;00m \u001b[38;5;167;01mEOFError\u001b[39;00m(\u001b[38;5;124mf\u001b[39m\u001b[38;5;124m\"\u001b[39m\u001b[38;5;124mExpansion DEM not sufficient!\u001b[39m\u001b[38;5;132;01m{\u001b[39;00mwidth\u001b[38;5;132;01m}\u001b[39;00m\u001b[38;5;132;01m{\u001b[39;00mheight\u001b[38;5;132;01m}\u001b[39;00m\u001b[38;5;124m\"\u001b[39m)\n",
      "\u001b[1;31mEOFError\u001b[0m: Expansion DEM not sufficient!20002000"
     ]
    }
   ],
   "source": [
    "from backend.roughplanning.RoughPlanning import RoughPlanning\n",
    "from backend.roughplanning.RoughPlanDrawer import RoughPlanDrawer\n",
    "from backend.roughplanning.GNSS import GNSS_Point\n",
    "import numpy as np\n",
    "\n",
    "number_of_lines = 4\n",
    "number_of_segments = 5\n",
    "line_length = 300\n",
    "min_elevation = 10 # gon\n",
    "\n",
    "azimuths = [400 / number_of_lines * i for i in range(number_of_lines)]\n",
    "elevation_angles = []\n",
    "\n",
    "pt = GNSS_Point(name=\"3001\", easting= 1_643_504, northing=1_260_541, floor_height=424.5)\n",
    "\n",
    "rough1 = RoughPlanning(point=pt, dem_path=\"./testdata/raster.tif\", method='CONVENTIONAL')\n",
    "lines = rough1.create_lines(number_of_lines=number_of_lines, line_length=line_length)\n",
    "\n",
    "for line in lines: # may  later be seperated on many cores\n",
    "    segments = rough1.segment_line(number_of_segments=number_of_segments, line=line) # segment per line\n",
    "    rough1.transform_linesegments(line_points=segments) # transformed segment per line\n",
    "    profile = rough1.create_profile(line_points=segments) # create profile-Object\n",
    "    max_alpha = rough1.get_max_angle(profile=profile)\n",
    "    elevation_angles.append(max_alpha * 200 / np.pi)\n",
    "\n",
    "drawer1 = RoughPlanDrawer()\n",
    "drawer1.draw_panorama_diagram(azimuths=azimuths, elevation_angles=elevation_angles, min_elevation=min_elevation, image_path=f\"./panorama_{pt.name}.png\", pointname=pt.name)\n",
    "drawer1.draw_polar_diagram(azimuths=azimuths, elevation_angles=elevation_angles, min_elevation=min_elevation, image_path=f\"./polar_{pt.name}.png\", pointname=pt.name)\n",
    "drawer1.save_legend(legend_path=\"./legend.png\")\n",
    "\n"
   ]
  },
  {
   "cell_type": "code",
   "execution_count": 1,
   "metadata": {},
   "outputs": [],
   "source": [
    "from fpdf import FPDF\n",
    "\n",
    "\n",
    "\n",
    "pdf = FPDF('L', 'mm', 'A4')\n",
    "\n",
    "pdf.set_auto_page_break(auto=True, margin=15)\n",
    "\n",
    "\n",
    "pdf.add_page()\n",
    "pdf.set_font('helvetica', '', 16)\n",
    "\n",
    "pdf.image(\"polar_3001.png\")\n",
    "pdf.cell(0, 0, \"hello world\")\n",
    "\n",
    "pdf.output(\"pdf.pdf\")"
   ]
  },
  {
   "cell_type": "code",
   "execution_count": null,
   "metadata": {},
   "outputs": [],
   "source": []
  }
 ],
 "metadata": {
  "kernelspec": {
   "display_name": "BTh",
   "language": "python",
   "name": "python3"
  },
  "language_info": {
   "codemirror_mode": {
    "name": "ipython",
    "version": 3
   },
   "file_extension": ".py",
   "mimetype": "text/x-python",
   "name": "python",
   "nbconvert_exporter": "python",
   "pygments_lexer": "ipython3",
   "version": "3.11.9"
  }
 },
 "nbformat": 4,
 "nbformat_minor": 2
}
