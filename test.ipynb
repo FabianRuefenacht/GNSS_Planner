{
 "cells": [
  {
   "cell_type": "code",
   "execution_count": null,
   "metadata": {},
   "outputs": [],
   "source": [
    "from backend.roughplanning.RoughPlanning import RoughPlanning\n",
    "from backend.roughplanning.RoughPlanDrawer import RoughPlanDrawer\n",
    "from backend.roughplanning.GNSS import GNSS_Point\n",
    "import numpy as np\n",
    "\n",
    "number_of_lines = 4\n",
    "number_of_segments = 5\n",
    "line_length = 300\n",
    "min_elevation = 10 # gon\n",
    "\n",
    "azimuths = [400 / number_of_lines * i for i in range(number_of_lines)]\n",
    "elevation_angles = []\n",
    "\n",
    "pt = GNSS_Point(name=\"3001\", easting= 1_643_504, northing=1_260_541, floor_height=424.5)\n",
    "\n",
    "rough1 = RoughPlanning(point=pt, dem_path=\"./testdata/raster.tif\", method='CONVENTIONAL')\n",
    "lines = rough1.create_lines(number_of_lines=number_of_lines, line_length=line_length)\n",
    "\n",
    "for line in lines: # may  later be seperated on many cores\n",
    "    segments = rough1.segment_line(number_of_segments=number_of_segments, line=line) # segment per line\n",
    "    rough1.transform_linesegments(line_points=segments) # transformed segment per line\n",
    "    profile = rough1.create_profile(line_points=segments) # create profile-Object\n",
    "    max_alpha = rough1.get_max_angle(profile=profile)\n",
    "    elevation_angles.append(max_alpha * 200 / np.pi)\n",
    "\n",
    "drawer1 = RoughPlanDrawer()\n",
    "drawer1.draw_panorama_diagram(azimuths=azimuths, elevation_angles=elevation_angles, min_elevation=min_elevation, image_path=f\"./panorama_{pt.name}.png\", pointname=pt.name)\n",
    "drawer1.draw_polar_diagram(azimuths=azimuths, elevation_angles=elevation_angles, min_elevation=min_elevation, image_path=f\"./polar_{pt.name}.png\", pointname=pt.name)\n",
    "drawer1.save_legend(legend_path=\"./legend.png\")\n",
    "\n"
   ]
  },
  {
   "cell_type": "code",
   "execution_count": 1,
   "metadata": {},
   "outputs": [
    {
     "ename": "FileNotFoundError",
     "evalue": "Die Datei wurde nicht gefunden!",
     "output_type": "error",
     "traceback": [
      "\u001b[1;31m---------------------------------------------------------------------------\u001b[0m",
      "\u001b[1;31mFileNotFoundError\u001b[0m                         Traceback (most recent call last)",
      "Cell \u001b[1;32mIn[1], line 13\u001b[0m\n\u001b[0;32m      9\u001b[0m pt2 \u001b[38;5;241m=\u001b[39m GNSS_Point(name\u001b[38;5;241m=\u001b[39m\u001b[38;5;124m\"\u001b[39m\u001b[38;5;124m3002\u001b[39m\u001b[38;5;124m\"\u001b[39m, easting\u001b[38;5;241m=\u001b[39m \u001b[38;5;241m1_643_504\u001b[39m, northing\u001b[38;5;241m=\u001b[39m\u001b[38;5;241m1_260_541\u001b[39m, floor_height\u001b[38;5;241m=\u001b[39m\u001b[38;5;241m424.5\u001b[39m)\n\u001b[0;32m     11\u001b[0m pdfcreator \u001b[38;5;241m=\u001b[39m PDFCreator(results_path\u001b[38;5;241m=\u001b[39m\u001b[38;5;124m\"\u001b[39m\u001b[38;5;124m./bla.pdf\u001b[39m\u001b[38;5;124m\"\u001b[39m)\n\u001b[1;32m---> 13\u001b[0m \u001b[43mpdfcreator\u001b[49m\u001b[38;5;241;43m.\u001b[39;49m\u001b[43mcreate_protocol\u001b[49m\u001b[43m(\u001b[49m\u001b[43mpoints\u001b[49m\u001b[38;5;241;43m=\u001b[39;49m\u001b[43m[\u001b[49m\u001b[43mpt\u001b[49m\u001b[43m,\u001b[49m\u001b[43m \u001b[49m\u001b[43mpt2\u001b[49m\u001b[43m]\u001b[49m\u001b[43m,\u001b[49m\u001b[43m \u001b[49m\u001b[43mprojectname\u001b[49m\u001b[38;5;241;43m=\u001b[39;49m\u001b[38;5;124;43m\"\u001b[39;49m\u001b[38;5;124;43mbal\u001b[39;49m\u001b[38;5;124;43m\"\u001b[39;49m\u001b[43m,\u001b[49m\u001b[43m \u001b[49m\u001b[43mprojectleader\u001b[49m\u001b[38;5;241;43m=\u001b[39;49m\u001b[38;5;124;43m\"\u001b[39;49m\u001b[38;5;124;43mich\u001b[39;49m\u001b[38;5;124;43m\"\u001b[39;49m\u001b[43m)\u001b[49m\n",
      "File \u001b[1;32mc:\\Users\\fruef\\Documents\\_coding\\python\\GNSS_Planner\\backend\\roughplanning\\PDFCreator.py:46\u001b[0m, in \u001b[0;36mPDFCreator.create_protocol\u001b[1;34m(self, points, projectname, projectleader)\u001b[0m\n\u001b[0;32m     43\u001b[0m pdf\u001b[38;5;241m.\u001b[39mcell(w\u001b[38;5;241m=\u001b[39m\u001b[38;5;241m60\u001b[39m, text\u001b[38;5;241m=\u001b[39m\u001b[38;5;124mf\u001b[39m\u001b[38;5;124m\"\u001b[39m\u001b[38;5;124mAntennenhöhe:\u001b[39m\u001b[38;5;124m\"\u001b[39m, ln\u001b[38;5;241m=\u001b[39m\u001b[38;5;241m0\u001b[39m)\n\u001b[0;32m     44\u001b[0m pdf\u001b[38;5;241m.\u001b[39mcell(w\u001b[38;5;241m=\u001b[39m\u001b[38;5;241m30\u001b[39m, text\u001b[38;5;241m=\u001b[39m\u001b[38;5;124mf\u001b[39m\u001b[38;5;124m\"\u001b[39m\u001b[38;5;132;01m{\u001b[39;00mantennaheight\u001b[38;5;132;01m:\u001b[39;00m\u001b[38;5;124m.1f\u001b[39m\u001b[38;5;132;01m}\u001b[39;00m\u001b[38;5;124m m\u001b[39m\u001b[38;5;124m\"\u001b[39m, ln\u001b[38;5;241m=\u001b[39m\u001b[38;5;241m1\u001b[39m, align\u001b[38;5;241m=\u001b[39m\u001b[38;5;124m'\u001b[39m\u001b[38;5;124mr\u001b[39m\u001b[38;5;124m'\u001b[39m)\n\u001b[1;32m---> 46\u001b[0m panorama_image \u001b[38;5;241m=\u001b[39m \u001b[38;5;28;43mself\u001b[39;49m\u001b[38;5;241;43m.\u001b[39;49m\u001b[43mfind_image\u001b[49m\u001b[43m(\u001b[49m\u001b[43mname\u001b[49m\u001b[38;5;241;43m=\u001b[39;49m\u001b[38;5;124;43mf\u001b[39;49m\u001b[38;5;124;43m\"\u001b[39;49m\u001b[38;5;124;43mpanorama\u001b[39;49m\u001b[38;5;132;43;01m{\u001b[39;49;00m\u001b[43mname\u001b[49m\u001b[38;5;132;43;01m}\u001b[39;49;00m\u001b[38;5;124;43m.png\u001b[39;49m\u001b[38;5;124;43m\"\u001b[39;49m\u001b[43m)\u001b[49m\n\u001b[0;32m     47\u001b[0m polar_image \u001b[38;5;241m=\u001b[39m \u001b[38;5;28mself\u001b[39m\u001b[38;5;241m.\u001b[39mfind_image(name\u001b[38;5;241m=\u001b[39m\u001b[38;5;124mf\u001b[39m\u001b[38;5;124m\"\u001b[39m\u001b[38;5;124mpolar\u001b[39m\u001b[38;5;132;01m{\u001b[39;00mname\u001b[38;5;132;01m}\u001b[39;00m\u001b[38;5;124m.png\u001b[39m\u001b[38;5;124m\"\u001b[39m)\n\u001b[0;32m     48\u001b[0m legend \u001b[38;5;241m=\u001b[39m \u001b[38;5;28mself\u001b[39m\u001b[38;5;241m.\u001b[39mfind_image(name\u001b[38;5;241m=\u001b[39m\u001b[38;5;124mf\u001b[39m\u001b[38;5;124m\"\u001b[39m\u001b[38;5;124mlegend.png\u001b[39m\u001b[38;5;124m\"\u001b[39m)\n",
      "File \u001b[1;32mc:\\Users\\fruef\\Documents\\_coding\\python\\GNSS_Planner\\backend\\roughplanning\\PDFCreator.py:65\u001b[0m, in \u001b[0;36mPDFCreator.find_image\u001b[1;34m(self, name)\u001b[0m\n\u001b[0;32m     63\u001b[0m     \u001b[38;5;28;01mreturn\u001b[39;00m files[\u001b[38;5;241m0\u001b[39m]\n\u001b[0;32m     64\u001b[0m \u001b[38;5;28;01melse\u001b[39;00m:\n\u001b[1;32m---> 65\u001b[0m     \u001b[38;5;28;01mraise\u001b[39;00m \u001b[38;5;167;01mFileNotFoundError\u001b[39;00m(\u001b[38;5;124m\"\u001b[39m\u001b[38;5;124mDie Datei wurde nicht gefunden!\u001b[39m\u001b[38;5;124m\"\u001b[39m)\n",
      "\u001b[1;31mFileNotFoundError\u001b[0m: Die Datei wurde nicht gefunden!"
     ]
    }
   ],
   "source": [
    "from backend.roughplanning.RoughPlanning import RoughPlanning\n",
    "from backend.roughplanning.RoughPlanDrawer import RoughPlanDrawer\n",
    "from backend.roughplanning.GNSS import GNSS_Point\n",
    "from backend.roughplanning.PDFCreator import PDFCreator\n",
    "\n",
    "\n",
    "\n",
    "pt = GNSS_Point(name=\"3001\", easting= 1_643_504, northing=1_260_541, floor_height=424.5)\n",
    "pt2 = GNSS_Point(name=\"3002\", easting= 1_643_504, northing=1_260_541, floor_height=424.5)\n",
    "\n",
    "pdfcreator = PDFCreator(results_path=\"./bla.pdf\")\n",
    "\n",
    "pdfcreator.create_protocol(points=[pt, pt2], projectname=\"bal\", projectleader=\"ich\")"
   ]
  },
  {
   "cell_type": "code",
   "execution_count": null,
   "metadata": {},
   "outputs": [],
   "source": []
  }
 ],
 "metadata": {
  "kernelspec": {
   "display_name": "BTh",
   "language": "python",
   "name": "python3"
  },
  "language_info": {
   "codemirror_mode": {
    "name": "ipython",
    "version": 3
   },
   "file_extension": ".py",
   "mimetype": "text/x-python",
   "name": "python",
   "nbconvert_exporter": "python",
   "pygments_lexer": "ipython3",
   "version": "3.11.9"
  }
 },
 "nbformat": 4,
 "nbformat_minor": 2
}
