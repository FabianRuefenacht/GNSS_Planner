{
 "cells": [
  {
   "cell_type": "code",
   "execution_count": 1,
   "metadata": {},
   "outputs": [
    {
     "name": "stdout",
     "output_type": "stream",
     "text": [
      "GNSS_Point(name='Point1', easting=2600000.0, northing=1200000.0, floor_height=500.0, antenna_height=2.0)\n",
      "GNSS_Point(name='Point2', easting=2600001, northing=1200001, floor_height=501, antenna_height=1.9)\n",
      "GNSS_Point(name='Point2', easting=2600002, northing=1200001, floor_height=501, antenna_height=1.5)\n",
      "GNSS_Point(name='Point2', easting=2600003, northing=1200001, floor_height=501, antenna_height=1.7)\n",
      "Gefundener Punkt: GNSS_Point(name='Point1', easting=2600000.0, northing=1200000.0, floor_height=500.0, antenna_height=2.0)\n"
     ]
    },
    {
     "data": {
      "text/plain": [
       "RoughPlanning(point=GNSS_Point(name='Point1', easting=2600000.0, northing=1200000.0, floor_height=500.0, antenna_height=2.0), dem_path='./bla.py', method='CONVENTIONAL')"
      ]
     },
     "execution_count": 1,
     "metadata": {},
     "output_type": "execute_result"
    }
   ],
   "source": [
    "from GNSS import GNSS_Point, GNSS_Session\n",
    "from RoughPlanning import RoughPlanning\n",
    "\n",
    "point1 = GNSS_Point(name=\"Point1\", easting=2600000.0, northing=1200000.0, floor_height=500.0)\n",
    "point2 = GNSS_Point(name=\"Point2\", easting=2600001, northing=1200001, floor_height=501, antenna_height=1.9)\n",
    "point3 = GNSS_Point(name=\"Point2\", easting=2600002, northing=1200001, floor_height=501, antenna_height=1.5)\n",
    "point4 = GNSS_Point(name=\"Point2\", easting=2600003, northing=1200001, floor_height=501, antenna_height=1.7)\n",
    "\n",
    "session = GNSS_Session(points=[point1, point2])\n",
    "session.add_point(point3)\n",
    "session.add_point(point4)\n",
    "\n",
    "for point in session.get_points():\n",
    "    print(point)\n",
    "\n",
    "point_by_name = session.get_point_by_name(\"Point1\")\n",
    "print(f\"Gefundener Punkt: {point_by_name}\")\n",
    "\n",
    "RoughPlanning(point=point1, dem_path=\"./bla.py\", method='CONVENTIONAL')"
   ]
  },
  {
   "cell_type": "code",
   "execution_count": 2,
   "metadata": {},
   "outputs": [],
   "source": [
    "from RoughPlanning import RoughPlanning\n",
    "from RoughPlanDrawer import RoughPlanDrawer\n",
    "from GNSS import GNSS_Point\n",
    "import numpy as np\n",
    "\n",
    "number_of_lines = 4\n",
    "line_length = 100\n",
    "min_elevation = 10 # gon\n",
    "\n",
    "azimuths = [400 / number_of_lines * i for i in range(number_of_lines)]\n",
    "elevation_angles = []\n",
    "\n",
    "pt = GNSS_Point(name=\"3001\", easting= 2_643_504, northing=1_260_541, floor_height=424.5)\n",
    "\n",
    "rough1 = RoughPlanning(point=pt, dem_path=\"./testdata/raster.tif\", method='CONVENTIONAL')\n",
    "lines = rough1.create_lines(number_of_lines=number_of_lines, line_length=line_length)\n",
    "\n",
    "for line in lines: # may  later be seperated on many cores\n",
    "    segments = rough1.segment_line(number_of_segments=5, line=line) # segment per line\n",
    "    rough1.transform_linesegments(line_points=segments) # transformed segment per line\n",
    "    profile = rough1.create_profile(line_points=segments) # create profile-Object\n",
    "    max_alpha = rough1.get_max_angle(profile=profile)\n",
    "    elevation_angles.append(max_alpha * 200 / np.pi)\n",
    "\n",
    "drawer1 = RoughPlanDrawer()\n",
    "drawer1.draw_panorama_diagram(azimuths=azimuths, elevation_angles=elevation_angles, min_elevation=min_elevation, image_path=f\"./panorama_{pt.name}.png\", pointname=pt.name)\n",
    "drawer1.draw_polar_diagram(azimuths=azimuths, elevation_angles=elevation_angles, min_elevation=min_elevation, image_path=f\"./polar_{pt.name}.png\", pointname=pt.name)\n",
    "drawer1.save_legend(legend_path=\"./legend.png\")\n",
    "\n"
   ]
  },
  {
   "cell_type": "code",
   "execution_count": null,
   "metadata": {},
   "outputs": [],
   "source": []
  }
 ],
 "metadata": {
  "kernelspec": {
   "display_name": "BTh",
   "language": "python",
   "name": "python3"
  },
  "language_info": {
   "codemirror_mode": {
    "name": "ipython",
    "version": 3
   },
   "file_extension": ".py",
   "mimetype": "text/x-python",
   "name": "python",
   "nbconvert_exporter": "python",
   "pygments_lexer": "ipython3",
   "version": "3.11.9"
  }
 },
 "nbformat": 4,
 "nbformat_minor": 2
}
