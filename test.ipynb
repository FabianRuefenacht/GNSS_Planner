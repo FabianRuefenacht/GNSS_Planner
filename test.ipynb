{
 "cells": [
  {
   "cell_type": "code",
   "execution_count": 6,
   "metadata": {},
   "outputs": [],
   "source": [
    "from backend.roughplanning.RoughPlanning import RoughPlanning\n",
    "from backend.roughplanning.RoughPlanDrawer import RoughPlanDrawer\n",
    "from backend.roughplanning.GNSS import GNSS_Point\n",
    "import numpy as np\n",
    "\n",
    "number_of_lines = 40\n",
    "number_of_segments = 60\n",
    "line_length = 300\n",
    "min_elevation = 10 # gon\n",
    "\n",
    "azimuths = [400 / number_of_lines * i for i in range(number_of_lines)]\n",
    "elevation_angles = []\n",
    "\n",
    "pt = GNSS_Point(name=\"3001\", easting= 2_643_504, northing=1_260_541, floor_height=424.5)\n",
    "\n",
    "rough1 = RoughPlanning(point=pt, dem_path=\"./testdata/raster.tif\", method='CONVENTIONAL')\n",
    "lines = rough1.create_lines(number_of_lines=number_of_lines, line_length=line_length)\n",
    "\n",
    "for line in lines: # may  later be seperated on many cores\n",
    "    segments = rough1.segment_line(number_of_segments=number_of_segments, line=line) # segment per line\n",
    "    rough1.transform_linesegments(line_points=segments) # transformed segment per line\n",
    "    profile = rough1.create_profile(line_points=segments) # create profile-Object\n",
    "    max_alpha = rough1.get_max_angle(profile=profile)\n",
    "    elevation_angles.append(max_alpha * 200 / np.pi)\n",
    "\n",
    "drawer1 = RoughPlanDrawer()\n",
    "drawer1.draw_panorama_diagram(azimuths=azimuths, elevation_angles=elevation_angles, min_elevation=min_elevation, image_path=f\"./panorama_{pt.name}.png\", pointname=pt.name)\n",
    "drawer1.draw_polar_diagram(azimuths=azimuths, elevation_angles=elevation_angles, min_elevation=min_elevation, image_path=f\"./polar_{pt.name}.png\", pointname=pt.name)\n",
    "drawer1.save_legend(legend_path=\"./legend.png\")\n",
    "\n"
   ]
  },
  {
   "cell_type": "code",
   "execution_count": 19,
   "metadata": {},
   "outputs": [],
   "source": [
    "from fpdf import FPDF\n",
    "\n",
    "\n",
    "\n",
    "pdf = FPDF('P', 'mm', 'A4')\n",
    "\n",
    "pdf.set_auto_page_break(auto=True, margin=15)\n",
    "\n",
    "\n",
    "pdf.add_page()\n",
    "pdf.set_font('helvetica', '', 16)\n",
    "\n",
    "pdf.image(\"polar_3001.png\")\n",
    "pdf.cell(0, 0, \"hello world\")\n",
    "\n",
    "pdf.output(\"pdf.pdf\")"
   ]
  },
  {
   "cell_type": "code",
   "execution_count": null,
   "metadata": {},
   "outputs": [],
   "source": []
  }
 ],
 "metadata": {
  "kernelspec": {
   "display_name": "BTh",
   "language": "python",
   "name": "python3"
  },
  "language_info": {
   "codemirror_mode": {
    "name": "ipython",
    "version": 3
   },
   "file_extension": ".py",
   "mimetype": "text/x-python",
   "name": "python",
   "nbconvert_exporter": "python",
   "pygments_lexer": "ipython3",
   "version": "3.11.9"
  }
 },
 "nbformat": 4,
 "nbformat_minor": 2
}
